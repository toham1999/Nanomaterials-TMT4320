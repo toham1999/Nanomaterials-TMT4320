{
 "cells": [
  {
   "cell_type": "code",
   "execution_count": null,
   "metadata": {},
   "outputs": [
    {
     "ename": "",
     "evalue": "",
     "output_type": "error",
     "traceback": [
      "\u001b[1;31mRunning cells with 'Python 3.13.0' requires the ipykernel package.\n",
      "\u001b[1;31mRun the following command to install 'ipykernel' into the Python environment. \n",
      "\u001b[1;31mCommand: '/usr/local/bin/python3 -m pip install ipykernel -U --user --force-reinstall'"
     ]
    }
   ],
   "source": [
    "import matplotlib.pyplot as plt\n",
    "import numpy as np\n",
    "\n",
    "pCO = np.array([13.3, 26.7, 40.0, 53.3, 66.7, 80.0, 93.3]) # Pressure of CO [kPa]\n",
    "vCO = np.array([10.3, 19.3, 27.3, 34.1, 40.0, 45.5, 48.0]) # Volume of CO [cm^3]\n",
    "\n",
    "fig, axs = plt.subplots()\n",
    "axs.scatter(pCO,pCO/vCO, marker='x', label='Datapoints') # Scatter plot of pressure vs pressure/volume ratio\n",
    "\n",
    "# Perform linear regression to fit a line through the data points\n",
    "coeffs = np.polyfit(pCO, pCO / vCO, 1)\n",
    "\n",
    "# Calculate the x values of the regression line\n",
    "pCO_reg = np.linspace(pCO.min()*0.95, pCO.max()*1.05, 100)\n",
    "\n",
    "# Plot the linear regression line\n",
    "axs.plot(pCO_reg, pCO_reg*coeffs[0]+coeffs[1], label='Linear regression', color='red')\n",
    "\n",
    "# Add a legend to the plot\n",
    "fig.legend(loc='upper left', bbox_to_anchor=(0.12, 0.885))\n",
    "\n",
    "# Set the labels and title of the plot\n",
    "axs.set_ylabel(r'$p/V\\ [kPa/cm^3]$')\n",
    "axs.set_xlabel(r'p [kPa]')\n",
    "axs.set_title('Gas adsorption measurements on carbon black.')\n",
    "\n",
    "# Print the slope of the linear regression line\n",
    "print(f\"Slope of regression line (1/v_mono): {coeffs[0]:.2e} [m^3/kPa]\")\n",
    "\n",
    "### Find the number of CO molecules ###\n",
    "T = 293 # Temperature [K]\n",
    "p_atmosphere = 101325 # Pressure [Pa]\n",
    "R = 8.314 # Gas constant [J mol^-1 K^-1]\n",
    "N_A = 6.022e23 # Avogadro constant [mol^-1]\n",
    "v_mono = (coeffs[0]**-1)*1e-6 # Volume of a single CO molecule [m^3]\n",
    "n_CO = p_atmosphere*v_mono/(R*T) # Number of CO molecules: Ideal gas law pV = nRT\n",
    "print(f\"Number of CO molecules: {n_CO:.2e} [mol]\")\n",
    "\n",
    "\n",
    "### Calculate the specific surface area ###\n",
    "Area_CO = 0.16*1e-18 # [m^2] - Specific occupiued surface area of a CO molecule\n",
    "Area_tot = n_CO * Area_CO * N_A # [m^2] - Total occupiued surface area of the carbon black\n",
    "print(f\"Total surface area: {Area_tot:.2e} [m^2]\")\n",
    "\n",
    "### Adjust for mass ###     CB is Carbon Black\n",
    "mass_CB = 9.659 # Mass of sample [g]\n",
    "density_CB =  2.1*1e6 # Density of sample [g/m^3]\n",
    "spesific_surface_area = Area_tot/mass_CB # [m^2/g]\n",
    "print(f\"Spesific surface area: {spesific_surface_area:.2e} [m^2/g]\")\n",
    "\n",
    "### Find the radius of the carbon black ###\n",
    "radius_CB = (3/(spesific_surface_area*density_CB)) # [m]\n",
    "print(f\"Radius of carbon black: {radius_CB*1e9:.1f} [nm]\")\n",
    "print(f\"Diameter of carbon black: {2*radius_CB*1e9:.1f} [nm]\")"
   ]
  }
 ],
 "metadata": {
  "kernelspec": {
   "display_name": "Python 3",
   "language": "python",
   "name": "python3"
  },
  "language_info": {
   "codemirror_mode": {
    "name": "ipython",
    "version": 3
   },
   "file_extension": ".py",
   "mimetype": "text/x-python",
   "name": "python",
   "nbconvert_exporter": "python",
   "pygments_lexer": "ipython3",
   "version": "3.13.0"
  },
  "orig_nbformat": 4
 },
 "nbformat": 4,
 "nbformat_minor": 2
}
